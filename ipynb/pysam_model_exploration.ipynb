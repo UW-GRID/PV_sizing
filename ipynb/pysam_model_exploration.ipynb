{
 "cells": [
  {
   "cell_type": "code",
   "execution_count": 1,
   "metadata": {},
   "outputs": [],
   "source": [
    "import numpy as np\n",
    "import pandas as pd\n",
    "import PySAM.Pvsamv1 as pv\n",
    "\n",
    "# import matplotlib.pyplot as plt"
   ]
  },
  {
   "cell_type": "code",
   "execution_count": 2,
   "metadata": {},
   "outputs": [],
   "source": [
    "pvmodel = pv.default('PVBatteryResidential')"
   ]
  },
  {
   "cell_type": "code",
   "execution_count": 3,
   "metadata": {},
   "outputs": [],
   "source": [
    "# there are formatting differences between the weather file that we download from\n",
    "# pvwatts and what SAM wants --- SAM wants the file from the NSRDB \n",
    "pvmodel.SolarResource.solar_resource_file = \"../data/tmy_5.579_-0.233_2005_2014.epw\""
   ]
  },
  {
   "cell_type": "code",
   "execution_count": 2,
   "metadata": {},
   "outputs": [],
   "source": [
    "our_load_profile = np.loadtxt(\"../data/Max_load_profile_for_year.txt\", skiprows=1)"
   ]
  },
  {
   "cell_type": "code",
   "execution_count": 5,
   "metadata": {},
   "outputs": [
    {
     "data": {
      "text/plain": [
       "[<matplotlib.lines.Line2D at 0x7fc518726210>]"
      ]
     },
     "execution_count": 5,
     "metadata": {},
     "output_type": "execute_result"
    },
    {
     "data": {
      "image/png": "[encoded data removed]",
      "text/plain": [
       "<Figure size 432x288 with 1 Axes>"
      ]
     },
     "metadata": {
      "needs_background": "light"
     },
     "output_type": "display_data"
    }
   ],
   "source": [
    "plt.plot(our_load_profile[:200])"
   ]
  },
  {
   "cell_type": "code",
   "execution_count": 6,
   "metadata": {},
   "outputs": [],
   "source": [
    "pvmodel.Load.load = tuple(our_load_profile)"
   ]
  },
  {
   "cell_type": "code",
   "execution_count": 7,
   "metadata": {},
   "outputs": [],
   "source": [
    "pvmodel.Module.module_model = 1 # set it to CEC model"
   ]
  },
  {
   "cell_type": "code",
   "execution_count": 8,
   "metadata": {},
   "outputs": [
    {
     "data": {
      "text/plain": [
       "{'cec_a_ref': 2.42033,\n",
       " 'cec_adjust': 4.86979,\n",
       " 'cec_alpha_sc': 0.002492,\n",
       " 'cec_area': 1.631,\n",
       " 'cec_array_cols': 10.0,\n",
       " 'cec_array_rows': 1.0,\n",
       " 'cec_backside_temp': 20.0,\n",
       " 'cec_beta_oc': -0.16975,\n",
       " 'cec_bifacial_ground_clearance_height': 1.0,\n",
       " 'cec_bifacial_transmission_factor': 0.013,\n",
       " 'cec_bifaciality': 0.65,\n",
       " 'cec_gamma_r': -0.31,\n",
       " 'cec_gap_spacing': 0.05,\n",
       " 'cec_heat_transfer': 0.0,\n",
       " 'cec_height': 0.0,\n",
       " 'cec_i_l_ref': 6.23681,\n",
       " 'cec_i_mp_ref': 5.85,\n",
       " 'cec_i_o_ref': 3.99e-12,\n",
       " 'cec_i_sc_ref': 6.23,\n",
       " 'cec_is_bifacial': 0.0,\n",
       " 'cec_module_length': 1.631,\n",
       " 'cec_module_width': 1.0,\n",
       " 'cec_mounting_config': 0.0,\n",
       " 'cec_mounting_orientation': 0.0,\n",
       " 'cec_n_s': 96.0,\n",
       " 'cec_r_s': 0.499389,\n",
       " 'cec_r_sh_ref': 457.185,\n",
       " 'cec_standoff': 6.0,\n",
       " 'cec_t_noct': 46.4,\n",
       " 'cec_temp_corr_mode': 0.0,\n",
       " 'cec_transient_thermal_model_unit_mass': 11.0919,\n",
       " 'cec_v_mp_ref': 57.3,\n",
       " 'cec_v_oc_ref': 67.9}"
      ]
     },
     "execution_count": 8,
     "metadata": {},
     "output_type": "execute_result"
    }
   ],
   "source": [
    "pvmodel.CECPerformanceModelWithModuleDatabase.export()"
   ]
  },
  {
   "cell_type": "code",
   "execution_count": 9,
   "metadata": {},
   "outputs": [
    {
     "data": {
      "text/plain": [
       "29.83249056547486"
      ]
     },
     "execution_count": 9,
     "metadata": {},
     "output_type": "execute_result"
    }
   ],
   "source": [
    "# calculating the total number of modules reqd for the overall system capacity\n",
    "\n",
    "# module_power = V_mpp * I_mpp\n",
    "mod_power = 5.85 * 57.3\n",
    "\n",
    "no_of_modules = 10_000 / mod_power # system capacity needed/ module_power\n",
    "\n",
    "no_of_modules"
   ]
  },
  {
   "cell_type": "code",
   "execution_count": 10,
   "metadata": {},
   "outputs": [],
   "source": [
    "pvmodel.Inverter.inverter_model = 0. # set it to CEC\n",
    "\n",
    "pvmodel.Inverter.inv_num_mppt = 1 # use different mmpts"
   ]
  },
  {
   "cell_type": "code",
   "execution_count": 11,
   "metadata": {},
   "outputs": [
    {
     "data": {
      "text/plain": [
       "{'inv_cec_cg_eff_cec': 96.6364,\n",
       " 'inv_cec_cg_paco': 3800.0,\n",
       " 'inv_ds_eff': 96.0,\n",
       " 'inv_ds_paco': 4000.0,\n",
       " 'inv_num_mppt': 1.0,\n",
       " 'inv_pd_eff': 95.0,\n",
       " 'inv_pd_paco': 4000.0,\n",
       " 'inv_snl_eff_cec': 97.0529,\n",
       " 'inv_snl_paco': 3850.0,\n",
       " 'inverter_count': 1.0,\n",
       " 'inverter_model': 0.0,\n",
       " 'mppt_hi_inverter': 480.0,\n",
       " 'mppt_low_inverter': 100.0}"
      ]
     },
     "execution_count": 11,
     "metadata": {},
     "output_type": "execute_result"
    }
   ],
   "source": [
    "# inverter settings \n",
    "pvmodel.Inverter.export()"
   ]
  },
  {
   "cell_type": "code",
   "execution_count": 12,
   "metadata": {},
   "outputs": [
    {
     "data": {
      "text/plain": [
       "(1.4727540500736376, 7.069219440353461)"
      ]
     },
     "execution_count": 12,
     "metadata": {},
     "output_type": "execute_result"
    }
   ],
   "source": [
    "# Calculating the number of modules required per \n",
    "# string to satisfy the lower and upper limits of inverter capacity\n",
    "\n",
    "# high = mmpt_hi_inverter / V_OC_module\n",
    "module_per_string_high = 480/67.9\n",
    "\n",
    "# low = mmpt_low_inverter / V_OC_module\n",
    "module_per_string_low = 100/67.9\n",
    "\n",
    "module_per_string_low, module_per_string_high"
   ]
  },
  {
   "cell_type": "code",
   "execution_count": 13,
   "metadata": {},
   "outputs": [],
   "source": [
    "# arranging 30 modules in (2 to 7) strings\n",
    "\n",
    "number_of_modules_per_string = 5\n",
    "number_of_strings = 6"
   ]
  },
  {
   "cell_type": "markdown",
   "metadata": {},
   "source": [
    "Refer [this link](https://sam.nrel.gov/images/webinar_files/sam-webinars-2020-modeling-pv-systems.pdf) for detailed explanation on MMPT, subarray, strings, etc"
   ]
  },
  {
   "cell_type": "code",
   "execution_count": 14,
   "metadata": {},
   "outputs": [],
   "source": [
    "# System Design\n",
    "pvmodel.SystemDesign.inverter_count = 4\n",
    "\n",
    "pvmodel.SystemDesign.subarray1_modules_per_string = number_of_modules_per_string\n",
    "pvmodel.SystemDesign.subarray1_nstrings = number_of_strings\n",
    "pvmodel.SystemDesign.subarray1_mppt_input = 1\n",
    "pvmodel.SystemDesign.subarray1_track_mode = 0 # fixed tracking\n",
    "\n",
    "pvmodel.SystemDesign.subarray2_enable = 1\n",
    "pvmodel.SystemDesign.subarray2_modules_per_string = number_of_modules_per_string\n",
    "pvmodel.SystemDesign.subarray2_nstrings = number_of_strings\n",
    "pvmodel.SystemDesign.subarray2_mppt_input = 1\n",
    "pvmodel.SystemDesign.subarray2_track_mode = 0 # fixed tracking\n",
    "\n",
    "pvmodel.SystemDesign.subarray3_enable = 1\n",
    "pvmodel.SystemDesign.subarray3_modules_per_string = number_of_modules_per_string\n",
    "pvmodel.SystemDesign.subarray3_nstrings = number_of_strings\n",
    "pvmodel.SystemDesign.subarray3_mppt_input = 1\n",
    "pvmodel.SystemDesign.subarray3_track_mode = 0 # fixed tracking\n",
    "\n",
    "pvmodel.SystemDesign.subarray4_enable = 1\n",
    "pvmodel.SystemDesign.subarray4_modules_per_string = number_of_modules_per_string\n",
    "pvmodel.SystemDesign.subarray4_nstrings = number_of_strings\n",
    "pvmodel.SystemDesign.subarray4_mppt_input = 1\n",
    "pvmodel.SystemDesign.subarray4_track_mode = 0 # fixed tracking"
   ]
  },
  {
   "cell_type": "code",
   "execution_count": 15,
   "metadata": {
    "tags": []
   },
   "outputs": [
    {
     "data": {
      "text/plain": [
       "{'enable_mismatch_vmax_calc': 0.0,\n",
       " 'inverter_count': 4.0,\n",
       " 'subarray1_azimuth': 180.0,\n",
       " 'subarray1_backtrack': 0.0,\n",
       " 'subarray1_gcr': 0.3,\n",
       " 'subarray1_modules_per_string': 5.0,\n",
       " 'subarray1_monthly_tilt': (40.0,\n",
       "  40.0,\n",
       "  40.0,\n",
       "  20.0,\n",
       "  20.0,\n",
       "  20.0,\n",
       "  20.0,\n",
       "  20.0,\n",
       "  20.0,\n",
       "  40.0,\n",
       "  40.0,\n",
       "  40.0),\n",
       " 'subarray1_mppt_input': 1.0,\n",
       " 'subarray1_nstrings': 6.0,\n",
       " 'subarray1_rotlim': 45.0,\n",
       " 'subarray1_tilt': 20.0,\n",
       " 'subarray1_tilt_eq_lat': 0.0,\n",
       " 'subarray1_track_mode': 0.0,\n",
       " 'subarray2_azimuth': 180.0,\n",
       " 'subarray2_backtrack': 0.0,\n",
       " 'subarray2_enable': 1.0,\n",
       " 'subarray2_gcr': 0.3,\n",
       " 'subarray2_modules_per_string': 5.0,\n",
       " 'subarray2_monthly_tilt': (40.0,\n",
       "  40.0,\n",
       "  40.0,\n",
       "  20.0,\n",
       "  20.0,\n",
       "  20.0,\n",
       "  20.0,\n",
       "  20.0,\n",
       "  20.0,\n",
       "  40.0,\n",
       "  40.0,\n",
       "  40.0),\n",
       " 'subarray2_mppt_input': 1.0,\n",
       " 'subarray2_nstrings': 6.0,\n",
       " 'subarray2_rotlim': 45.0,\n",
       " 'subarray2_tilt': 20.0,\n",
       " 'subarray2_tilt_eq_lat': 0.0,\n",
       " 'subarray2_track_mode': 0.0,\n",
       " 'subarray3_azimuth': 180.0,\n",
       " 'subarray3_backtrack': 0.0,\n",
       " 'subarray3_enable': 1.0,\n",
       " 'subarray3_gcr': 0.3,\n",
       " 'subarray3_modules_per_string': 5.0,\n",
       " 'subarray3_monthly_tilt': (40.0,\n",
       "  40.0,\n",
       "  40.0,\n",
       "  20.0,\n",
       "  20.0,\n",
       "  20.0,\n",
       "  20.0,\n",
       "  20.0,\n",
       "  20.0,\n",
       "  40.0,\n",
       "  40.0,\n",
       "  40.0),\n",
       " 'subarray3_mppt_input': 1.0,\n",
       " 'subarray3_nstrings': 6.0,\n",
       " 'subarray3_rotlim': 45.0,\n",
       " 'subarray3_tilt': 20.0,\n",
       " 'subarray3_tilt_eq_lat': 0.0,\n",
       " 'subarray3_track_mode': 0.0,\n",
       " 'subarray4_azimuth': 180.0,\n",
       " 'subarray4_backtrack': 0.0,\n",
       " 'subarray4_enable': 1.0,\n",
       " 'subarray4_gcr': 0.3,\n",
       " 'subarray4_modules_per_string': 5.0,\n",
       " 'subarray4_monthly_tilt': (40.0,\n",
       "  40.0,\n",
       "  40.0,\n",
       "  20.0,\n",
       "  20.0,\n",
       "  20.0,\n",
       "  20.0,\n",
       "  20.0,\n",
       "  20.0,\n",
       "  40.0,\n",
       "  40.0,\n",
       "  40.0),\n",
       " 'subarray4_mppt_input': 1.0,\n",
       " 'subarray4_nstrings': 6.0,\n",
       " 'subarray4_rotlim': 45.0,\n",
       " 'subarray4_tilt': 20.0,\n",
       " 'subarray4_tilt_eq_lat': 0.0,\n",
       " 'subarray4_track_mode': 0.0,\n",
       " 'system_capacity': 4.69287}"
      ]
     },
     "execution_count": 15,
     "metadata": {},
     "output_type": "execute_result"
    }
   ],
   "source": [
    "pvmodel.SystemDesign.export()"
   ]
  },
  {
   "cell_type": "code",
   "execution_count": 16,
   "metadata": {},
   "outputs": [],
   "source": [
    "pvmodel.BatterySystem.batt_computed_bank_capacity = 77 # kWh\n",
    "pvmodel.BatterySystem.batt_computed_series = 139\n",
    "pvmodel.BatterySystem.batt_computed_strings = 48\n",
    "pvmodel.BatterySystem.batt_power_charge_max_kwac = 10.417\n",
    "pvmodel.BatterySystem.batt_power_discharge_max_kwac = 9.6\n",
    "pvmodel.BatterySystem.batt_power_charge_max_kwdc = 9.982\n",
    "pvmodel.BatterySystem.batt_power_discharge_max_kwdc = 9.982"
   ]
  },
  {
   "cell_type": "code",
   "execution_count": 17,
   "metadata": {
    "tags": []
   },
   "outputs": [
    {
     "data": {
      "text/plain": [
       "{'batt_ac_dc_efficiency': 96.0,\n",
       " 'batt_ac_or_dc': 1.0,\n",
       " 'batt_computed_bank_capacity': 77.0,\n",
       " 'batt_computed_series': 139.0,\n",
       " 'batt_computed_strings': 48.0,\n",
       " 'batt_current_charge_max': 1998.4,\n",
       " 'batt_current_choice': 1.0,\n",
       " 'batt_current_discharge_max': 1998.4,\n",
       " 'batt_cycle_cost': (0.1,),\n",
       " 'batt_cycle_cost_choice': 0.0,\n",
       " 'batt_dc_ac_efficiency': 96.0,\n",
       " 'batt_dc_dc_efficiency': 99.0,\n",
       " 'batt_inverter_efficiency_cutoff': 90.0,\n",
       " 'batt_loss_choice': 0.0,\n",
       " 'batt_losses': (0.0,),\n",
       " 'batt_losses_charging': (0.0,\n",
       "  0.0,\n",
       "  0.0,\n",
       "  0.0,\n",
       "  0.0,\n",
       "  0.0,\n",
       "  0.0,\n",
       "  0.0,\n",
       "  0.0,\n",
       "  0.0,\n",
       "  0.0,\n",
       "  0.0),\n",
       " 'batt_losses_discharging': (0.0,\n",
       "  0.0,\n",
       "  0.0,\n",
       "  0.0,\n",
       "  0.0,\n",
       "  0.0,\n",
       "  0.0,\n",
       "  0.0,\n",
       "  0.0,\n",
       "  0.0,\n",
       "  0.0,\n",
       "  0.0),\n",
       " 'batt_losses_idle': (0.0,\n",
       "  0.0,\n",
       "  0.0,\n",
       "  0.0,\n",
       "  0.0,\n",
       "  0.0,\n",
       "  0.0,\n",
       "  0.0,\n",
       "  0.0,\n",
       "  0.0,\n",
       "  0.0,\n",
       "  0.0),\n",
       " 'batt_mass': 39603.9,\n",
       " 'batt_meter_position': 0.0,\n",
       " 'batt_power_charge_max_kwac': 10.417,\n",
       " 'batt_power_charge_max_kwdc': 9.982,\n",
       " 'batt_power_discharge_max_kwac': 9.6,\n",
       " 'batt_power_discharge_max_kwdc': 9.982,\n",
       " 'batt_replacement_capacity': 50.0,\n",
       " 'batt_replacement_option': 1.0,\n",
       " 'batt_replacement_schedule_percent': (0.0,\n",
       "  0.0,\n",
       "  0.0,\n",
       "  0.0,\n",
       "  0.0,\n",
       "  0.0,\n",
       "  0.0,\n",
       "  0.0,\n",
       "  0.0,\n",
       "  0.0,\n",
       "  0.0,\n",
       "  0.0,\n",
       "  0.0,\n",
       "  0.0,\n",
       "  0.0,\n",
       "  0.0,\n",
       "  0.0,\n",
       "  0.0,\n",
       "  0.0,\n",
       "  0.0,\n",
       "  0.0,\n",
       "  0.0,\n",
       "  0.0,\n",
       "  0.0,\n",
       "  0.0),\n",
       " 'batt_surface_area': 89.0141,\n",
       " 'en_batt': 1.0,\n",
       " 'om_replacement_cost1': (316.31,)}"
      ]
     },
     "execution_count": 17,
     "metadata": {},
     "output_type": "execute_result"
    }
   ],
   "source": [
    "pvmodel.BatterySystem.export()"
   ]
  },
  {
   "cell_type": "code",
   "execution_count": 18,
   "metadata": {},
   "outputs": [
    {
     "data": {
      "text/plain": [
       "1.0"
      ]
     },
     "execution_count": 18,
     "metadata": {},
     "output_type": "execute_result"
    }
   ],
   "source": [
    "pvmodel.BatteryCell.batt_chem # 0 - lead acid, 1 - Li Ion"
   ]
  },
  {
   "cell_type": "code",
   "execution_count": 19,
   "metadata": {},
   "outputs": [
    {
     "name": "stdout",
     "output_type": "stream",
     "text": [
      "CPU times: user 26.1 s, sys: 237 ms, total: 26.4 s\n",
      "Wall time: 26.4 s\n"
     ]
    }
   ],
   "source": [
    "%%time\n",
    "pvmodel.execute()"
   ]
  },
  {
   "cell_type": "code",
   "execution_count": 20,
   "metadata": {},
   "outputs": [
    {
     "data": {
      "text/plain": [
       "<BarContainer object of 12 artists>"
      ]
     },
     "execution_count": 20,
     "metadata": {},
     "output_type": "execute_result"
    },
    {
     "data": {
      "image/png": "[encoded data removed]",
      "text/plain": [
       "<Figure size 432x288 with 1 Axes>"
      ]
     },
     "metadata": {
      "needs_background": "light"
     },
     "output_type": "display_data"
    }
   ],
   "source": [
    "months = [\"Jan\", \"Feb\", \"March\", \"April\", \"May\", \"June\", \"July\", \"August\", \"Sep\", \"Oct\", \"Nov\", \"Dec\"]\n",
    "plt.bar(months, pvmodel.Outputs.monthly_energy)"
   ]
  },
  {
   "cell_type": "code",
   "execution_count": 21,
   "metadata": {},
   "outputs": [
    {
     "data": {
      "image/png": "[encoded data removed]",
      "text/plain": [
       "<Figure size 720x576 with 1 Axes>"
      ]
     },
     "metadata": {
      "needs_background": "light"
     },
     "output_type": "display_data"
    }
   ],
   "source": [
    "dates = pd.date_range(start=\"1/1/2006\", end=\"1/1/2007\", freq=\"H\").delete(-1)\n",
    "\n",
    "hourly_load_w_dates = pd.DataFrame({\"Load\" : pvmodel.Load.load, \"Dates\" : dates})\n",
    "monthly_load = hourly_load_w_dates.groupby(hourly_load_w_dates[\"Dates\"].dt.month)[\"Load\"].sum()\n",
    "\n",
    "months = [\"Jan\", \"Feb\", \"March\", \"April\", \"May\", \"June\", \"July\", \"August\", \"Sep\", \"Oct\", \"Nov\", \"Dec\"]\n",
    "\n",
    "x = np.arange(len(months))  # the label locations\n",
    "width = 0.25  # the width of the bars\n",
    "\n",
    "f, ax = plt.subplots(figsize=(10,8))\n",
    "ax.bar(x - width/2, pvmodel.Outputs.monthly_energy, width, label=\"System AC Energy\")\n",
    "ax.bar(x + width/2, monthly_load.values, width, label=\"Electricity Load\")\n",
    "ax.set_xlabel(months)\n",
    "plt.legend();"
   ]
  },
  {
   "cell_type": "code",
   "execution_count": 22,
   "metadata": {},
   "outputs": [
    {
     "data": {
      "image/png": "[encoded data removed]",
      "text/plain": [
       "<Figure size 432x288 with 1 Axes>"
      ]
     },
     "metadata": {
      "needs_background": "light"
     },
     "output_type": "display_data"
    }
   ],
   "source": [
    "# Monthly DC energy (apparently SAM is plotting this) ---- different from \"MOnthly Energy\" \n",
    "f, ax = plt.subplots()\n",
    "ax.bar(x - width/2, pvmodel.Outputs.monthly_dc, width, label=\"DC Energy\")\n",
    "ax.bar(x + width/2, monthly_load.values, width, label=\"Electricity Load\")\n",
    "plt.legend();"
   ]
  },
  {
   "cell_type": "code",
   "execution_count": 23,
   "metadata": {},
   "outputs": [
    {
     "data": {
      "text/plain": [
       "array([ 245.78207941,  135.21641062,   34.17557842, -137.05715153,\n",
       "       -436.03722926, -851.94699085, -177.12940005, -305.39329211,\n",
       "        -44.49028544,  389.32023642,  370.97797595,  357.15846192])"
      ]
     },
     "execution_count": 23,
     "metadata": {},
     "output_type": "execute_result"
    }
   ],
   "source": [
    "diff_of_energy_load = pvmodel.Outputs.monthly_energy - monthly_load.values\n",
    "\n",
    "diff_of_energy_load"
   ]
  },
  {
   "cell_type": "code",
   "execution_count": 26,
   "metadata": {},
   "outputs": [
    {
     "data": {
      "text/plain": [
       "(745.2333297022948,\n",
       " 625.5331739811827,\n",
       " 735.0014563635917,\n",
       " 732.6101660582731,\n",
       " 754.6968867844693,\n",
       " 619.5775036573401,\n",
       " 707.9506206077256,\n",
       " 761.9618841645628,\n",
       " 650.4542082129559,\n",
       " 753.5976618057869,\n",
       " 699.5309745886443,\n",
       " 652.3204983655514)"
      ]
     },
     "execution_count": 26,
     "metadata": {},
     "output_type": "execute_result"
    }
   ],
   "source": [
    "pvmodel.Outputs.monthly_batt_to_load"
   ]
  },
  {
   "cell_type": "code",
   "execution_count": 27,
   "metadata": {},
   "outputs": [
    {
     "data": {
      "text/plain": [
       "138776"
      ]
     },
     "execution_count": 27,
     "metadata": {},
     "output_type": "execute_result"
    }
   ],
   "source": [
    "np.count_nonzero(\n",
    "    np.array(pvmodel.Outputs.system_to_load) - np.tile(our_load_profile, 25) # repeat load profile for 25 years\n",
    ")"
   ]
  },
  {
   "cell_type": "code",
   "execution_count": 16,
   "metadata": {},
   "outputs": [
    {
     "data": {
      "text/plain": [
       "219000"
      ]
     },
     "execution_count": 16,
     "metadata": {},
     "output_type": "execute_result"
    }
   ],
   "source": [
    "25*365*24"
   ]
  },
  {
   "cell_type": "code",
   "execution_count": 3,
   "metadata": {},
   "outputs": [],
   "source": [
    "# Use dask for processing\n",
    "# import dask\n",
    "import os\n",
    "\n",
    "data_path = os.path.abspath(\"/Users/sarthak/Documents/GitHub_Projects/UW-GRID/PV_sizing/data/\")\n",
    "\n",
    "# pvmodel = pv.default('PVBatteryResidential')\n",
    "\n",
    "# @dask.delayed\n",
    "def execute_pvmodel(number_of_modules_per_string, number_of_strings, n_inverters=4, batt_bank_capacity=200):\n",
    "    \n",
    "    pvmodel = pv.default('PVBatteryResidential')\n",
    "#     global pvmodel\n",
    "    \n",
    "    pvmodel.SolarResource.solar_resource_file = os.path.join(data_path, \"tmy_5.579_-0.233_2005_2014.epw\")\n",
    "    our_load_profile = np.loadtxt(os.path.join(data_path, \"Max_load_profile_for_year.txt\"), skiprows=1)\n",
    "    \n",
    "    pvmodel.Load.load = tuple(our_load_profile)\n",
    "    \n",
    "    pvmodel.Module.module_model = 1 # set it to CEC model\n",
    "    \n",
    "    pvmodel.Inverter.inverter_model = 0. # set it to CEC\n",
    "    pvmodel.Inverter.inv_num_mppt = 1 # use single mmpts\n",
    "    \n",
    "    # System Design\n",
    "    pvmodel.SystemDesign.inverter_count = n_inverters\n",
    "\n",
    "    pvmodel.SystemDesign.subarray1_modules_per_string = number_of_modules_per_string\n",
    "    pvmodel.SystemDesign.subarray1_nstrings = number_of_strings\n",
    "    pvmodel.SystemDesign.subarray1_mppt_input = 1\n",
    "    pvmodel.SystemDesign.subarray1_track_mode = 0 # fixed tracking\n",
    "\n",
    "    pvmodel.SystemDesign.subarray2_enable = 1\n",
    "    pvmodel.SystemDesign.subarray2_modules_per_string = number_of_modules_per_string\n",
    "    pvmodel.SystemDesign.subarray2_nstrings = number_of_strings\n",
    "    pvmodel.SystemDesign.subarray2_mppt_input = 1\n",
    "    pvmodel.SystemDesign.subarray2_track_mode = 0 # fixed tracking\n",
    "\n",
    "    pvmodel.SystemDesign.subarray3_enable = 1\n",
    "    pvmodel.SystemDesign.subarray3_modules_per_string = number_of_modules_per_string\n",
    "    pvmodel.SystemDesign.subarray3_nstrings = number_of_strings\n",
    "    pvmodel.SystemDesign.subarray3_mppt_input = 1\n",
    "    pvmodel.SystemDesign.subarray3_track_mode = 0 # fixed tracking\n",
    "\n",
    "    pvmodel.SystemDesign.subarray4_enable = 1\n",
    "    pvmodel.SystemDesign.subarray4_modules_per_string = number_of_modules_per_string\n",
    "    pvmodel.SystemDesign.subarray4_nstrings = number_of_strings\n",
    "    pvmodel.SystemDesign.subarray4_mppt_input = 1\n",
    "    pvmodel.SystemDesign.subarray4_track_mode = 0 # fixed tracking\n",
    "    \n",
    "    mod_power_rating = pvmodel.CECPerformanceModelWithModuleDatabase.cec_v_mp_ref * pvmodel.CECPerformanceModelWithModuleDatabase.cec_i_mp_ref\n",
    "    pvmodel.SystemDesign.system_capacity = mod_power_rating * 4 * number_of_modules_per_string * number_of_strings\n",
    "    \n",
    "    \n",
    "    pvmodel.BatterySystem.batt_current_charge_max = 24\n",
    "    pvmodel.BatterySystem.batt_current_discharge_max = 24\n",
    "\n",
    "    pvmodel.BatterySystem.batt_power_charge_max_kwac = 12\n",
    "    pvmodel.BatterySystem.batt_power_discharge_max_kwac= 11\n",
    "\n",
    "    pvmodel.BatterySystem.batt_power_charge_max_kwdc = 12\n",
    "    pvmodel.BatterySystem.batt_power_discharge_max_kwdc= 12\n",
    "\n",
    "    pvmodel.BatterySystem.en_batt = 1\n",
    "    \n",
    "#     pvmodel.BatterySystem.batt_computed_bank_capacity = batt_bank_capacity # kWh\n",
    "#     pvmodel.BatterySystem.batt_computed_series = 139\n",
    "#     pvmodel.BatterySystem.batt_computed_strings = 48\n",
    "#     pvmodel.BatterySystem.batt_power_charge_max_kwac = 10.417\n",
    "#     pvmodel.BatterySystem.batt_power_discharge_max_kwac = 9.6\n",
    "#     pvmodel.BatterySystem.batt_power_charge_max_kwdc = 9.982\n",
    "#     pvmodel.BatterySystem.batt_power_discharge_max_kwdc = 9.982\n",
    "    \n",
    "    pvmodel.BatteryDispatch.batt_dispatch_choice = 4.0 # manual discharge\n",
    "    pvmodel.BatteryDispatch.dispatch_manual_charge = (1, 1, 1, 1, 0, 0)\n",
    "    pvmodel.BatteryDispatch.dispatch_manual_discharge = (1, 1, 1, 1, 0, 0)\n",
    "    pvmodel.BatteryDispatch.dispatch_manual_percent_discharge = (25, 25, 25, 75)\n",
    "    \n",
    "    pvmodel.execute()\n",
    "    \n",
    "    return pvmodel"
   ]
  },
  {
   "cell_type": "code",
   "execution_count": 4,
   "metadata": {},
   "outputs": [
    {
     "name": "stdout",
     "output_type": "stream",
     "text": [
      "CPU times: user 27.7 s, sys: 303 ms, total: 28 s\n",
      "Wall time: 28.2 s\n"
     ]
    }
   ],
   "source": [
    "%%time\n",
    "pvmodel = execute_pvmodel(5, 6, n_inverters=10)"
   ]
  },
  {
   "cell_type": "code",
   "execution_count": 5,
   "metadata": {},
   "outputs": [
    {
     "data": {
      "text/plain": [
       "4000.0"
      ]
     },
     "execution_count": 5,
     "metadata": {},
     "output_type": "execute_result"
    }
   ],
   "source": [
    "pvmodel.BatterySystem.batt_computed_bank_capacity"
   ]
  },
  {
   "cell_type": "code",
   "execution_count": 6,
   "metadata": {},
   "outputs": [
    {
     "data": {
      "text/plain": [
       "1500.0"
      ]
     },
     "execution_count": 6,
     "metadata": {},
     "output_type": "execute_result"
    }
   ],
   "source": [
    "pvmodel.BatteryCell.batt_Cp"
   ]
  },
  {
   "cell_type": "code",
   "execution_count": 92,
   "metadata": {},
   "outputs": [
    {
     "data": {
      "text/plain": [
       "<BarContainer object of 12 artists>"
      ]
     },
     "execution_count": 92,
     "metadata": {},
     "output_type": "execute_result"
    },
    {
     "data": {
      "image/png": "[encoded data removed]",
      "text/plain": [
       "<Figure size 432x288 with 1 Axes>"
      ]
     },
     "metadata": {
      "needs_background": "light"
     },
     "output_type": "display_data"
    }
   ],
   "source": [
    "import matplotlib.pyplot as plt\n",
    "\n",
    "months = [\"Jan\", \"Feb\", \"March\", \"April\", \"May\", \"June\", \"July\", \"August\", \"Sep\", \"Oct\", \"Nov\", \"Dec\"]\n",
    "plt.bar(months, pvmodel.Outputs.monthly_energy)"
   ]
  },
  {
   "cell_type": "code",
   "execution_count": 93,
   "metadata": {},
   "outputs": [
    {
     "data": {
      "text/plain": [
       "(1.0, 219000)"
      ]
     },
     "execution_count": 93,
     "metadata": {},
     "output_type": "execute_result"
    }
   ],
   "source": [
    "uptime_hours = np.count_nonzero(\n",
    "        (np.array(pvmodel.Outputs.system_to_load) + \n",
    "         np.array(pvmodel.Outputs.batt_to_load) - \n",
    "         np.tile(our_load_profile, 25)  # repeat load profile for 25 years\n",
    "        ) == 0 \n",
    "    )\n",
    "    \n",
    "uptime_hours/(365 * 24 * 25) , uptime_hours"
   ]
  },
  {
   "cell_type": "markdown",
   "metadata": {},
   "source": [
    "## Running multiple scenarios"
   ]
  },
  {
   "cell_type": "code",
   "execution_count": 97,
   "metadata": {},
   "outputs": [],
   "source": [
    "pvmodels_param_dict = []\n",
    "pvmodels = []"
   ]
  },
  {
   "cell_type": "code",
   "execution_count": 98,
   "metadata": {},
   "outputs": [
    {
     "name": "stdout",
     "output_type": "stream",
     "text": [
      "CPU times: user 18min 31s, sys: 7.56 s, total: 18min 39s\n",
      "Wall time: 18min 41s\n"
     ]
    }
   ],
   "source": [
    "%%time\n",
    "\n",
    "# l = []  # for testing purposes\n",
    "\n",
    "for m in range(2,8):\n",
    "    for n in range(4,15):\n",
    "        if m*n >=30:\n",
    "#             l.append([m,n])\n",
    "            pvmodels_param_dict.append({\"modules_per_string\" : m, \"number_of_strings\" : n})\n",
    "            z = execute_pvmodel(m,n, n_inverters=5)\n",
    "            pvmodels.append(z)"
   ]
  },
  {
   "cell_type": "code",
   "execution_count": 99,
   "metadata": {},
   "outputs": [
    {
     "data": {
      "text/plain": [
       "41"
      ]
     },
     "execution_count": 99,
     "metadata": {},
     "output_type": "execute_result"
    }
   ],
   "source": [
    "len(pvmodels)"
   ]
  },
  {
   "cell_type": "code",
   "execution_count": 70,
   "metadata": {},
   "outputs": [
    {
     "data": {
      "text/plain": [
       "<Pvsamv1 at 0x7f811f210420>"
      ]
     },
     "execution_count": 70,
     "metadata": {},
     "output_type": "execute_result"
    }
   ],
   "source": [
    "pvmodels[0]"
   ]
  },
  {
   "cell_type": "code",
   "execution_count": 100,
   "metadata": {},
   "outputs": [],
   "source": [
    "uptime_percent = []\n",
    "\n",
    "for i in range(len(pvmodels)):\n",
    "    uptime_hours = np.count_nonzero(\n",
    "        (np.array(pvmodels[i].Outputs.system_to_load) + \n",
    "         np.array(pvmodels[i].Outputs.batt_to_load) - \n",
    "         np.tile(our_load_profile, 25)  # repeat load profile for 25 years\n",
    "        ) == 0 \n",
    "    )\n",
    "    \n",
    "    uptime_percent.append(uptime_hours/(365 * 24 * 25))"
   ]
  },
  {
   "cell_type": "code",
   "execution_count": 101,
   "metadata": {},
   "outputs": [
    {
     "data": {
      "text/plain": [
       "[1.0,\n",
       " 1.0,\n",
       " 1.0,\n",
       " 1.0,\n",
       " 1.0,\n",
       " 1.0,\n",
       " 1.0,\n",
       " 1.0,\n",
       " 1.0,\n",
       " 1.0,\n",
       " 1.0,\n",
       " 1.0,\n",
       " 1.0,\n",
       " 1.0,\n",
       " 1.0,\n",
       " 1.0,\n",
       " 1.0,\n",
       " 1.0,\n",
       " 1.0,\n",
       " 1.0,\n",
       " 1.0,\n",
       " 1.0,\n",
       " 1.0,\n",
       " 1.0,\n",
       " 1.0,\n",
       " 1.0,\n",
       " 1.0,\n",
       " 1.0,\n",
       " 1.0,\n",
       " 1.0,\n",
       " 1.0,\n",
       " 1.0,\n",
       " 1.0,\n",
       " 1.0,\n",
       " 1.0,\n",
       " 1.0,\n",
       " 1.0,\n",
       " 1.0,\n",
       " 1.0,\n",
       " 1.0,\n",
       " 1.0]"
      ]
     },
     "execution_count": 101,
     "metadata": {},
     "output_type": "execute_result"
    }
   ],
   "source": [
    "uptime_percent"
   ]
  },
  {
   "cell_type": "code",
   "execution_count": 102,
   "metadata": {},
   "outputs": [
    {
     "data": {
      "text/plain": [
       "[{'modules_per_string': 3, 'number_of_strings': 10},\n",
       " {'modules_per_string': 3, 'number_of_strings': 11},\n",
       " {'modules_per_string': 3, 'number_of_strings': 12},\n",
       " {'modules_per_string': 3, 'number_of_strings': 13},\n",
       " {'modules_per_string': 3, 'number_of_strings': 14},\n",
       " {'modules_per_string': 4, 'number_of_strings': 8},\n",
       " {'modules_per_string': 4, 'number_of_strings': 9},\n",
       " {'modules_per_string': 4, 'number_of_strings': 10},\n",
       " {'modules_per_string': 4, 'number_of_strings': 11},\n",
       " {'modules_per_string': 4, 'number_of_strings': 12},\n",
       " {'modules_per_string': 4, 'number_of_strings': 13},\n",
       " {'modules_per_string': 4, 'number_of_strings': 14},\n",
       " {'modules_per_string': 5, 'number_of_strings': 6},\n",
       " {'modules_per_string': 5, 'number_of_strings': 7},\n",
       " {'modules_per_string': 5, 'number_of_strings': 8},\n",
       " {'modules_per_string': 5, 'number_of_strings': 9},\n",
       " {'modules_per_string': 5, 'number_of_strings': 10},\n",
       " {'modules_per_string': 5, 'number_of_strings': 11},\n",
       " {'modules_per_string': 5, 'number_of_strings': 12},\n",
       " {'modules_per_string': 5, 'number_of_strings': 13},\n",
       " {'modules_per_string': 5, 'number_of_strings': 14},\n",
       " {'modules_per_string': 6, 'number_of_strings': 5},\n",
       " {'modules_per_string': 6, 'number_of_strings': 6},\n",
       " {'modules_per_string': 6, 'number_of_strings': 7},\n",
       " {'modules_per_string': 6, 'number_of_strings': 8},\n",
       " {'modules_per_string': 6, 'number_of_strings': 9},\n",
       " {'modules_per_string': 6, 'number_of_strings': 10},\n",
       " {'modules_per_string': 6, 'number_of_strings': 11},\n",
       " {'modules_per_string': 6, 'number_of_strings': 12},\n",
       " {'modules_per_string': 6, 'number_of_strings': 13},\n",
       " {'modules_per_string': 6, 'number_of_strings': 14},\n",
       " {'modules_per_string': 7, 'number_of_strings': 5},\n",
       " {'modules_per_string': 7, 'number_of_strings': 6},\n",
       " {'modules_per_string': 7, 'number_of_strings': 7},\n",
       " {'modules_per_string': 7, 'number_of_strings': 8},\n",
       " {'modules_per_string': 7, 'number_of_strings': 9},\n",
       " {'modules_per_string': 7, 'number_of_strings': 10},\n",
       " {'modules_per_string': 7, 'number_of_strings': 11},\n",
       " {'modules_per_string': 7, 'number_of_strings': 12},\n",
       " {'modules_per_string': 7, 'number_of_strings': 13},\n",
       " {'modules_per_string': 7, 'number_of_strings': 14}]"
      ]
     },
     "execution_count": 102,
     "metadata": {},
     "output_type": "execute_result"
    }
   ],
   "source": [
    "pvmodels_param_dict"
   ]
  },
  {
   "cell_type": "code",
   "execution_count": 103,
   "metadata": {},
   "outputs": [
    {
     "data": {
      "text/plain": [
       "<BarContainer object of 12 artists>"
      ]
     },
     "execution_count": 103,
     "metadata": {},
     "output_type": "execute_result"
    },
    {
     "data": {
      "image/png": "[encoded data removed]",
      "text/plain": [
       "<Figure size 432x288 with 1 Axes>"
      ]
     },
     "metadata": {
      "needs_background": "light"
     },
     "output_type": "display_data"
    }
   ],
   "source": [
    "months = [\"Jan\", \"Feb\", \"March\", \"April\", \"May\", \"June\", \"July\", \"August\", \"Sep\", \"Oct\", \"Nov\", \"Dec\"]\n",
    "plt.bar(months, pvmodels[0].Outputs.monthly_energy)"
   ]
  },
  {
   "cell_type": "code",
   "execution_count": 105,
   "metadata": {},
   "outputs": [
    {
     "data": {
      "text/plain": [
       "array([0., 0., 0., 0., 0., 0., 0., 0., 0., 0., 0., 0., 0., 0., 0., 0., 0.,\n",
       "       0., 0., 0., 0., 0., 0., 0.])"
      ]
     },
     "execution_count": 105,
     "metadata": {},
     "output_type": "execute_result"
    }
   ],
   "source": [
    "(np.array(pvmodels[0].Outputs.system_to_load) + np.array(pvmodels[0].Outputs.batt_to_load) - np.tile(our_load_profile, 25))[-24:]"
   ]
  },
  {
   "cell_type": "code",
   "execution_count": null,
   "metadata": {},
   "outputs": [],
   "source": []
  }
 ],
 "metadata": {
  "kernelspec": {
   "display_name": "Python [conda env:pysam]",
   "language": "python",
   "name": "conda-env-pysam-py"
  },
  "language_info": {
   "codemirror_mode": {
    "name": "ipython",
    "version": 3
   },
   "file_extension": ".py",
   "mimetype": "text/x-python",
   "name": "python",
   "nbconvert_exporter": "python",
   "pygments_lexer": "ipython3",
   "version": "3.7.9"
  }
 },
 "nbformat": 4,
 "nbformat_minor": 4
}
