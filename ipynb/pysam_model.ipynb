{
 "cells": [
  {
   "cell_type": "code",
   "execution_count": 1,
   "metadata": {},
   "outputs": [],
   "source": [
    "import os\n",
    "import numpy as np\n",
    "import pandas as pd\n",
    "import PySAM.Pvsamv1 as pv\n",
    "import matplotlib.pyplot as plt"
   ]
  },
  {
   "cell_type": "markdown",
   "metadata": {},
   "source": [
    "## Load Profile\n",
    "\n",
    "Getting our load profile"
   ]
  },
  {
   "cell_type": "code",
   "execution_count": 2,
   "metadata": {},
   "outputs": [],
   "source": [
    "data_path = os.path.abspath(\"/Users/sarthak/Documents/GitHub_Projects/UW-GRID/PV_sizing/data/\")\n",
    "\n",
    "our_load_profile = np.loadtxt(os.path.join(data_path, \"Max_load_profile_for_year.txt\"), skiprows=1)"
   ]
  },
  {
   "cell_type": "markdown",
   "metadata": {},
   "source": [
    "## PV Model - \"PVBatteryResidential\"\n",
    "\n",
    "`PVBatteryResidential` is one of the buit-in models in PySAM. We will use it for our analysis as it meets all of our basic requirements.\n",
    "\n",
    "- Instantiate the model with default values\n",
    "- Specify the solar resource file for the location\n",
    "- Assign the load profile (defined above) to the the model. This will inform the model what kind of load our system will support\n",
    "- Pick module and inverter models - can design our own with specifications as needed but here we will pick from the available database\n",
    "- Identify the minimum and the maximum number of modules that can be in a string (*connected in series*). This is to make sure we are in the operating range for the inverter. The number of modules we select to be connected in a string must fall between these min and max values\n",
    "- Design the system :\n",
    "    - Set inverter count - *how many inverters do we want?*\n",
    "    - For a single subarray:\n",
    "        - Assign the number of modules in a string (*modules in series*)\n",
    "        - Assign the number of strings (*rows (in parallel)*)\n",
    "        - Fixed axis system or tracking (*tracking means it will track the sun throughout the day*)\n",
    "    - Repeat for desired number of subarrays\n",
    "- Specify Battery system specs: charge, discharge\n",
    "- Identify power dispatch from battery\n",
    "    - Manually control - specify when to charge and discharge the battery (*this makes more sense if you look at the UI in SAM*)\n",
    "- Execute the model!"
   ]
  },
  {
   "cell_type": "markdown",
   "metadata": {},
   "source": [
    "Refer [this link](https://sam.nrel.gov/images/webinar_files/sam-webinars-2020-modeling-pv-systems.pdf) for detailed explanation on MMPT, subarray, strings, etc"
   ]
  },
  {
   "cell_type": "code",
   "execution_count": 13,
   "metadata": {},
   "outputs": [],
   "source": [
    "def execute_pvmodel(number_of_modules_per_string, number_of_strings, n_inverters=4):\n",
    "    \n",
    "    # initialize model with defaults\n",
    "    pvmodel = pv.default('PVBatteryResidential')\n",
    "    \n",
    "    # sepcify solar resource file for the location\n",
    "    pvmodel.SolarResource.solar_resource_file = os.path.join(data_path, \"tmy_5.579_-0.233_2005_2014.epw\")\n",
    "    # load profile (defined above)\n",
    "    our_load_profile = np.loadtxt(os.path.join(data_path, \"Max_load_profile_for_year.txt\"), skiprows=1)\n",
    "    \n",
    "    pvmodel.Load.load = tuple(our_load_profile)\n",
    "    \n",
    "    # select module and inverter from database\n",
    "    pvmodel.Module.module_model = 1 # set it to CEC model\n",
    "    \n",
    "    pvmodel.Inverter.inverter_model = 0. # set it to CEC\n",
    "    pvmodel.Inverter.inv_num_mppt = 1 # use single mmpts\n",
    "    \n",
    "    \n",
    "    ## Max number of modules in a string\n",
    "    max_modules_in_string = pvmodel.Inverter.mppt_hi_inverter/pvmodel.CECPerformanceModelWithModuleDatabase.cec_v_oc_ref\n",
    "    \n",
    "    ## Min number of modules in a string\n",
    "    min_modules_in_string = pvmodel.Inverter.mppt_low_inverter/pvmodel.CECPerformanceModelWithModuleDatabase.cec_v_oc_ref\n",
    "    \n",
    "    # modules per string specified must be within (min, max) modules required\n",
    "    assert number_of_modules_per_string > min_modules_in_string\n",
    "    assert number_of_modules_per_string < max_modules_in_string\n",
    "    \n",
    "    # System Design\n",
    "    pvmodel.SystemDesign.inverter_count = n_inverters\n",
    "\n",
    "    pvmodel.SystemDesign.subarray1_modules_per_string = number_of_modules_per_string\n",
    "    pvmodel.SystemDesign.subarray1_nstrings = number_of_strings\n",
    "    pvmodel.SystemDesign.subarray1_mppt_input = 1\n",
    "    pvmodel.SystemDesign.subarray1_track_mode = 0 # fixed tracking\n",
    "\n",
    "    pvmodel.SystemDesign.subarray2_enable = 1\n",
    "    pvmodel.SystemDesign.subarray2_modules_per_string = number_of_modules_per_string\n",
    "    pvmodel.SystemDesign.subarray2_nstrings = number_of_strings\n",
    "    pvmodel.SystemDesign.subarray2_mppt_input = 1\n",
    "    pvmodel.SystemDesign.subarray2_track_mode = 0 # fixed tracking\n",
    "\n",
    "    pvmodel.SystemDesign.subarray3_enable = 1\n",
    "    pvmodel.SystemDesign.subarray3_modules_per_string = number_of_modules_per_string\n",
    "    pvmodel.SystemDesign.subarray3_nstrings = number_of_strings\n",
    "    pvmodel.SystemDesign.subarray3_mppt_input = 1\n",
    "    pvmodel.SystemDesign.subarray3_track_mode = 0 # fixed tracking\n",
    "\n",
    "    pvmodel.SystemDesign.subarray4_enable = 1\n",
    "    pvmodel.SystemDesign.subarray4_modules_per_string = number_of_modules_per_string\n",
    "    pvmodel.SystemDesign.subarray4_nstrings = number_of_strings\n",
    "    pvmodel.SystemDesign.subarray4_mppt_input = 1\n",
    "    pvmodel.SystemDesign.subarray4_track_mode = 0 # fixed tracking\n",
    "    \n",
    "    # Total Capacity of the system\n",
    "    mod_power_rating = pvmodel.CECPerformanceModelWithModuleDatabase.cec_v_mp_ref * pvmodel.CECPerformanceModelWithModuleDatabase.cec_i_mp_ref\n",
    "    pvmodel.SystemDesign.system_capacity = mod_power_rating * 4 * number_of_modules_per_string * number_of_strings\n",
    "    \n",
    "    # Battery system design - charge/discharge\n",
    "    pvmodel.BatterySystem.batt_current_charge_max = 24\n",
    "    pvmodel.BatterySystem.batt_current_discharge_max = 24\n",
    "\n",
    "    pvmodel.BatterySystem.batt_power_charge_max_kwac = 12\n",
    "    pvmodel.BatterySystem.batt_power_discharge_max_kwac= 11\n",
    "\n",
    "    pvmodel.BatterySystem.batt_power_charge_max_kwdc = 12\n",
    "    pvmodel.BatterySystem.batt_power_discharge_max_kwdc= 12\n",
    "\n",
    "    # MUST ENABLE Battery storage!!\n",
    "    pvmodel.BatterySystem.en_batt = 1\n",
    "    \n",
    "#     pvmodel.BatterySystem.batt_computed_bank_capacity = batt_bank_capacity # kWh\n",
    "#     pvmodel.BatterySystem.batt_computed_series = 139\n",
    "#     pvmodel.BatterySystem.batt_computed_strings = 48\n",
    "#     pvmodel.BatterySystem.batt_power_charge_max_kwac = 10.417\n",
    "#     pvmodel.BatterySystem.batt_power_discharge_max_kwac = 9.6\n",
    "#     pvmodel.BatterySystem.batt_power_charge_max_kwdc = 9.982\n",
    "#     pvmodel.BatterySystem.batt_power_discharge_max_kwdc = 9.982\n",
    "\n",
    "    # Battery Dispatch\n",
    "    pvmodel.BatteryDispatch.batt_dispatch_choice = 4.0 # manual discharge\n",
    "    pvmodel.BatteryDispatch.dispatch_manual_charge = (1, 1, 1, 1, 0, 0)\n",
    "    pvmodel.BatteryDispatch.dispatch_manual_discharge = (1, 1, 1, 1, 0, 0)\n",
    "    pvmodel.BatteryDispatch.dispatch_manual_percent_discharge = (25, 25, 25, 75)\n",
    "    \n",
    "    # Finally, run the model!\n",
    "    pvmodel.execute()\n",
    "    \n",
    "    return pvmodel"
   ]
  },
  {
   "cell_type": "markdown",
   "metadata": {},
   "source": [
    "## Single Scenario\n",
    "\n",
    "First, we will execute the model for a single sceanario: \n",
    "- `number_of_modules_per_string=5` (*connected in series*)\n",
    "- `number_of_strings=6` (*rows of modules in parallel*)\n",
    "- `n_inverter=10` (*number of inverters*)"
   ]
  },
  {
   "cell_type": "code",
   "execution_count": 14,
   "metadata": {},
   "outputs": [
    {
     "name": "stdout",
     "output_type": "stream",
     "text": [
      "CPU times: user 26.7 s, sys: 203 ms, total: 26.9 s\n",
      "Wall time: 26.9 s\n"
     ]
    }
   ],
   "source": [
    "%%time\n",
    "pvmodel = execute_pvmodel(5, 6, n_inverters=10)"
   ]
  },
  {
   "cell_type": "markdown",
   "metadata": {},
   "source": [
    "### Calculate total system uptime \n",
    "\n",
    "System uptime is basicaly how many hours during the system lifetime will the energy generated by the system be enough or more than the instantaneous load.\n",
    "\n",
    "We can calculate this: \n",
    "    `PV SYSTEM TO LOAD` + `BATTERY TO LOAD` - `LOAD PROFILE` > 0"
   ]
  },
  {
   "cell_type": "code",
   "execution_count": 15,
   "metadata": {},
   "outputs": [
    {
     "data": {
      "text/plain": [
       "(1.0, 219000)"
      ]
     },
     "execution_count": 15,
     "metadata": {},
     "output_type": "execute_result"
    }
   ],
   "source": [
    "uptime_hours = np.count_nonzero(\n",
    "        (np.array(pvmodel.Outputs.system_to_load) + \n",
    "         np.array(pvmodel.Outputs.batt_to_load) - \n",
    "         np.tile(our_load_profile, 25)  # repeat load profile for 25 years\n",
    "        ) == 0 \n",
    "    )\n",
    "    \n",
    "uptime_hours/(365 * 24 * 25) , uptime_hours  # percent uptime for 25 years"
   ]
  },
  {
   "cell_type": "code",
   "execution_count": 16,
   "metadata": {},
   "outputs": [
    {
     "data": {
      "text/plain": [
       "<BarContainer object of 12 artists>"
      ]
     },
     "execution_count": 16,
     "metadata": {},
     "output_type": "execute_result"
    },
    {
     "data": {
      "image/png": "[encoded data removed]",
      "text/plain": [
       "<Figure size 432x288 with 1 Axes>"
      ]
     },
     "metadata": {
      "needs_background": "light"
     },
     "output_type": "display_data"
    }
   ],
   "source": [
    "months = [\"Jan\", \"Feb\", \"March\", \"April\", \"May\", \"June\", \"July\", \"August\", \"Sep\", \"Oct\", \"Nov\", \"Dec\"]\n",
    "plt.bar(months, pvmodel.Outputs.monthly_energy)"
   ]
  },
  {
   "cell_type": "markdown",
   "metadata": {},
   "source": [
    "## Running multiple scenarios\n",
    "\n",
    "Now, we will evaluate multiple scenarios - we will look at a range of modules numbers and a range of strings to find minimum system requirements that satisfy maximum uptime"
   ]
  },
  {
   "cell_type": "code",
   "execution_count": 9,
   "metadata": {},
   "outputs": [],
   "source": [
    "pvmodels_param_dict = []\n",
    "pvmodels = []"
   ]
  },
  {
   "cell_type": "code",
   "execution_count": 98,
   "metadata": {},
   "outputs": [
    {
     "name": "stdout",
     "output_type": "stream",
     "text": [
      "CPU times: user 18min 31s, sys: 7.56 s, total: 18min 39s\n",
      "Wall time: 18min 41s\n"
     ]
    }
   ],
   "source": [
    "%%time\n",
    "\n",
    "# l = []  # for testing purposes\n",
    "\n",
    "for m in range(2,8): # m is no of modules\n",
    "    for n in range(4,15): # n is no of strings\n",
    "        if m*n >=30:\n",
    "#             l.append([m,n])\n",
    "            pvmodels_param_dict.append({\"modules_per_string\" : m, \"number_of_strings\" : n})\n",
    "            z = execute_pvmodel(m,n, n_inverters=5)\n",
    "            pvmodels.append(z)"
   ]
  },
  {
   "cell_type": "code",
   "execution_count": 99,
   "metadata": {},
   "outputs": [
    {
     "data": {
      "text/plain": [
       "41"
      ]
     },
     "execution_count": 99,
     "metadata": {},
     "output_type": "execute_result"
    }
   ],
   "source": [
    "len(pvmodels)"
   ]
  },
  {
   "cell_type": "code",
   "execution_count": 70,
   "metadata": {},
   "outputs": [
    {
     "data": {
      "text/plain": [
       "<Pvsamv1 at 0x7f811f210420>"
      ]
     },
     "execution_count": 70,
     "metadata": {},
     "output_type": "execute_result"
    }
   ],
   "source": [
    "pvmodels[0]"
   ]
  },
  {
   "cell_type": "code",
   "execution_count": 100,
   "metadata": {},
   "outputs": [],
   "source": [
    "uptime_percent = []\n",
    "\n",
    "for i in range(len(pvmodels)):\n",
    "    uptime_hours = np.count_nonzero(\n",
    "        (np.array(pvmodels[i].Outputs.system_to_load) + \n",
    "         np.array(pvmodels[i].Outputs.batt_to_load) - \n",
    "         np.tile(our_load_profile, 25)  # repeat load profile for 25 years\n",
    "        ) == 0 \n",
    "    )\n",
    "    \n",
    "    uptime_percent.append(uptime_hours/(365 * 24 * 25))"
   ]
  },
  {
   "cell_type": "code",
   "execution_count": 101,
   "metadata": {},
   "outputs": [
    {
     "data": {
      "text/plain": [
       "[1.0,\n",
       " 1.0,\n",
       " 1.0,\n",
       " 1.0,\n",
       " 1.0,\n",
       " 1.0,\n",
       " 1.0,\n",
       " 1.0,\n",
       " 1.0,\n",
       " 1.0,\n",
       " 1.0,\n",
       " 1.0,\n",
       " 1.0,\n",
       " 1.0,\n",
       " 1.0,\n",
       " 1.0,\n",
       " 1.0,\n",
       " 1.0,\n",
       " 1.0,\n",
       " 1.0,\n",
       " 1.0,\n",
       " 1.0,\n",
       " 1.0,\n",
       " 1.0,\n",
       " 1.0,\n",
       " 1.0,\n",
       " 1.0,\n",
       " 1.0,\n",
       " 1.0,\n",
       " 1.0,\n",
       " 1.0,\n",
       " 1.0,\n",
       " 1.0,\n",
       " 1.0,\n",
       " 1.0,\n",
       " 1.0,\n",
       " 1.0,\n",
       " 1.0,\n",
       " 1.0,\n",
       " 1.0,\n",
       " 1.0]"
      ]
     },
     "execution_count": 101,
     "metadata": {},
     "output_type": "execute_result"
    }
   ],
   "source": [
    "uptime_percent"
   ]
  },
  {
   "cell_type": "code",
   "execution_count": 102,
   "metadata": {},
   "outputs": [
    {
     "data": {
      "text/plain": [
       "[{'modules_per_string': 3, 'number_of_strings': 10},\n",
       " {'modules_per_string': 3, 'number_of_strings': 11},\n",
       " {'modules_per_string': 3, 'number_of_strings': 12},\n",
       " {'modules_per_string': 3, 'number_of_strings': 13},\n",
       " {'modules_per_string': 3, 'number_of_strings': 14},\n",
       " {'modules_per_string': 4, 'number_of_strings': 8},\n",
       " {'modules_per_string': 4, 'number_of_strings': 9},\n",
       " {'modules_per_string': 4, 'number_of_strings': 10},\n",
       " {'modules_per_string': 4, 'number_of_strings': 11},\n",
       " {'modules_per_string': 4, 'number_of_strings': 12},\n",
       " {'modules_per_string': 4, 'number_of_strings': 13},\n",
       " {'modules_per_string': 4, 'number_of_strings': 14},\n",
       " {'modules_per_string': 5, 'number_of_strings': 6},\n",
       " {'modules_per_string': 5, 'number_of_strings': 7},\n",
       " {'modules_per_string': 5, 'number_of_strings': 8},\n",
       " {'modules_per_string': 5, 'number_of_strings': 9},\n",
       " {'modules_per_string': 5, 'number_of_strings': 10},\n",
       " {'modules_per_string': 5, 'number_of_strings': 11},\n",
       " {'modules_per_string': 5, 'number_of_strings': 12},\n",
       " {'modules_per_string': 5, 'number_of_strings': 13},\n",
       " {'modules_per_string': 5, 'number_of_strings': 14},\n",
       " {'modules_per_string': 6, 'number_of_strings': 5},\n",
       " {'modules_per_string': 6, 'number_of_strings': 6},\n",
       " {'modules_per_string': 6, 'number_of_strings': 7},\n",
       " {'modules_per_string': 6, 'number_of_strings': 8},\n",
       " {'modules_per_string': 6, 'number_of_strings': 9},\n",
       " {'modules_per_string': 6, 'number_of_strings': 10},\n",
       " {'modules_per_string': 6, 'number_of_strings': 11},\n",
       " {'modules_per_string': 6, 'number_of_strings': 12},\n",
       " {'modules_per_string': 6, 'number_of_strings': 13},\n",
       " {'modules_per_string': 6, 'number_of_strings': 14},\n",
       " {'modules_per_string': 7, 'number_of_strings': 5},\n",
       " {'modules_per_string': 7, 'number_of_strings': 6},\n",
       " {'modules_per_string': 7, 'number_of_strings': 7},\n",
       " {'modules_per_string': 7, 'number_of_strings': 8},\n",
       " {'modules_per_string': 7, 'number_of_strings': 9},\n",
       " {'modules_per_string': 7, 'number_of_strings': 10},\n",
       " {'modules_per_string': 7, 'number_of_strings': 11},\n",
       " {'modules_per_string': 7, 'number_of_strings': 12},\n",
       " {'modules_per_string': 7, 'number_of_strings': 13},\n",
       " {'modules_per_string': 7, 'number_of_strings': 14}]"
      ]
     },
     "execution_count": 102,
     "metadata": {},
     "output_type": "execute_result"
    }
   ],
   "source": [
    "pvmodels_param_dict"
   ]
  },
  {
   "cell_type": "code",
   "execution_count": 103,
   "metadata": {},
   "outputs": [
    {
     "data": {
      "text/plain": [
       "<BarContainer object of 12 artists>"
      ]
     },
     "execution_count": 103,
     "metadata": {},
     "output_type": "execute_result"
    },
    {
     "data": {
      "image/png": "[encoded data removed]",
      "text/plain": [
       "<Figure size 432x288 with 1 Axes>"
      ]
     },
     "metadata": {
      "needs_background": "light"
     },
     "output_type": "display_data"
    }
   ],
   "source": [
    "months = [\"Jan\", \"Feb\", \"March\", \"April\", \"May\", \"June\", \"July\", \"August\", \"Sep\", \"Oct\", \"Nov\", \"Dec\"]\n",
    "plt.bar(months, pvmodels[0].Outputs.monthly_energy)"
   ]
  },
  {
   "cell_type": "code",
   "execution_count": 105,
   "metadata": {},
   "outputs": [
    {
     "data": {
      "text/plain": [
       "array([0., 0., 0., 0., 0., 0., 0., 0., 0., 0., 0., 0., 0., 0., 0., 0., 0.,\n",
       "       0., 0., 0., 0., 0., 0., 0.])"
      ]
     },
     "execution_count": 105,
     "metadata": {},
     "output_type": "execute_result"
    }
   ],
   "source": [
    "(np.array(pvmodels[0].Outputs.system_to_load) + np.array(pvmodels[0].Outputs.batt_to_load) - np.tile(our_load_profile, 25))[-24:]"
   ]
  },
  {
   "cell_type": "code",
   "execution_count": null,
   "metadata": {},
   "outputs": [],
   "source": []
  }
 ],
 "metadata": {
  "interpreter": {
   "hash": "b4490a3ef4012f76720e910010dc06ec0e520b99ff845e61f1506189665bbf04"
  },
  "kernelspec": {
   "display_name": "Python 3.7.9 64-bit ('pysam': conda)",
   "name": "python3"
  },
  "language_info": {
   "name": "python",
   "version": ""
  }
 },
 "nbformat": 4,
 "nbformat_minor": 5
}