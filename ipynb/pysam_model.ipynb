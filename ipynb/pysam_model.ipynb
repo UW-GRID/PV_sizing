{
 "cells": [
  {
   "cell_type": "code",
   "execution_count": 1,
   "metadata": {},
   "outputs": [],
   "source": [
    "import numpy as np\n",
    "import pandas as pd\n",
    "import PySAM.Pvsamv1 as pv\n",
    "\n",
    "import matplotlib.pyplot as plt"
   ]
  },
  {
   "cell_type": "code",
   "execution_count": 2,
   "metadata": {},
   "outputs": [],
   "source": [
    "pvmodel = pv.default('PVBatteryResidential')"
   ]
  },
  {
   "cell_type": "code",
   "execution_count": 3,
   "metadata": {},
   "outputs": [],
   "source": [
    "# there are formatting differences between the weather file that we download from\n",
    "# pvwatts and what SAM wants --- SAM wants the file from the NSRDB \n",
    "pvmodel.SolarResource.solar_resource_file = \"../data/tmy_5.579_-0.233_2005_2014.epw\""
   ]
  },
  {
   "cell_type": "code",
   "execution_count": 4,
   "metadata": {},
   "outputs": [],
   "source": [
    "our_load_profile = np.loadtxt(\"../data/Max_load_profile_for_year.txt\", skiprows=1)"
   ]
  },
  {
   "cell_type": "code",
   "execution_count": 5,
   "metadata": {},
   "outputs": [],
   "source": [
    "pvmodel.Load.load = tuple(our_load_profile)"
   ]
  },
  {
   "cell_type": "code",
   "execution_count": 30,
   "metadata": {},
   "outputs": [],
   "source": [
    "pvmodel.Module.module_model = 1 # set it to simple efficiency model"
   ]
  },
  {
   "cell_type": "code",
   "execution_count": 25,
   "metadata": {},
   "outputs": [
    {
     "data": {
      "text/plain": [
       "{'spe_a': -3.56,\n",
       " 'spe_area': 0.74074,\n",
       " 'spe_b': -0.075,\n",
       " 'spe_bifacial_ground_clearance_height': 1.0,\n",
       " 'spe_bifacial_transmission_factor': 0.013,\n",
       " 'spe_bifaciality': 0.65,\n",
       " 'spe_dT': 3.0,\n",
       " 'spe_eff0': 20.0,\n",
       " 'spe_eff1': 20.0,\n",
       " 'spe_eff2': 20.0,\n",
       " 'spe_eff3': 20.0,\n",
       " 'spe_eff4': 20.0,\n",
       " 'spe_fd': 1.0,\n",
       " 'spe_is_bifacial': 0.0,\n",
       " 'spe_module_structure': 0.0,\n",
       " 'spe_rad0': 200.0,\n",
       " 'spe_rad1': 400.0,\n",
       " 'spe_rad2': 600.0,\n",
       " 'spe_rad3': 800.0,\n",
       " 'spe_rad4': 1000.0,\n",
       " 'spe_reference': 4.0,\n",
       " 'spe_temp_coeff': -0.5,\n",
       " 'spe_vmp': 30.0,\n",
       " 'spe_voc': 36.0}"
      ]
     },
     "execution_count": 25,
     "metadata": {},
     "output_type": "execute_result"
    }
   ],
   "source": [
    "pvmodel.SimpleEfficiencyModuleModel.assign({'spe_eff0': 20,\n",
    " 'spe_eff1': 20,\n",
    " 'spe_eff2': 20,\n",
    " 'spe_eff3': 20,\n",
    " 'spe_eff4': 20,})\n",
    "pvmodel.SimpleEfficiencyModuleModel.export()"
   ]
  },
  {
   "cell_type": "code",
   "execution_count": 12,
   "metadata": {},
   "outputs": [
    {
     "data": {
      "text/plain": [
       "{'inv_cec_cg_eff_cec': 96.6364,\n",
       " 'inv_cec_cg_paco': 3800.0,\n",
       " 'inv_ds_eff': 96.0,\n",
       " 'inv_ds_paco': 4000.0,\n",
       " 'inv_num_mppt': 1.0,\n",
       " 'inv_pd_eff': 95.0,\n",
       " 'inv_pd_paco': 4000.0,\n",
       " 'inv_snl_eff_cec': 97.0531,\n",
       " 'inv_snl_paco': 3850.0,\n",
       " 'inverter_count': 1.0,\n",
       " 'inverter_model': 0.0,\n",
       " 'mppt_hi_inverter': 480.0,\n",
       " 'mppt_low_inverter': 100.0}"
      ]
     },
     "execution_count": 12,
     "metadata": {},
     "output_type": "execute_result"
    }
   ],
   "source": [
    "# inverter settings \n",
    "pvmodel.Inverter.export()"
   ]
  },
  {
   "cell_type": "code",
   "execution_count": 16,
   "metadata": {},
   "outputs": [
    {
     "data": {
      "text/plain": [
       "0.0"
      ]
     },
     "execution_count": 16,
     "metadata": {},
     "output_type": "execute_result"
    }
   ],
   "source": [
    "pvmodel.Inverter.inverter_model = 0. # set it to CEC"
   ]
  },
  {
   "cell_type": "code",
   "execution_count": 14,
   "metadata": {},
   "outputs": [
    {
     "data": {
      "text/plain": [
       "{'inv_snl_c0': -3.08138e-06,\n",
       " 'inv_snl_c1': -4.8e-05,\n",
       " 'inv_snl_c2': 0.000124,\n",
       " 'inv_snl_c3': -0.001632,\n",
       " 'inv_snl_paco': 3850.0,\n",
       " 'inv_snl_pdco': 3964.41,\n",
       " 'inv_snl_pnt': 1.155,\n",
       " 'inv_snl_pso': 17.8856,\n",
       " 'inv_snl_vdcmax': 480.0,\n",
       " 'inv_snl_vdco': 400.0,\n",
       " 'inv_tdc_cec_db': ((1.0, 52.8, -0.021),)}"
      ]
     },
     "execution_count": 14,
     "metadata": {},
     "output_type": "execute_result"
    }
   ],
   "source": [
    "pvmodel.InverterCECDatabase.export()"
   ]
  },
  {
   "cell_type": "code",
   "execution_count": 81,
   "metadata": {},
   "outputs": [],
   "source": [
    "# System Design\n",
    "pvmodel.SystemDesign.inverter_count = 10.\n",
    "pvmodel.SystemDesign.subarray1_modules_per_string = 10.\n",
    "pvmodel.SystemDesign.subarray1_nstrings = 10."
   ]
  },
  {
   "cell_type": "code",
   "execution_count": 82,
   "metadata": {},
   "outputs": [],
   "source": [
    "pvmodel.execute()"
   ]
  },
  {
   "cell_type": "code",
   "execution_count": 83,
   "metadata": {},
   "outputs": [
    {
     "data": {
      "text/plain": [
       "<BarContainer object of 12 artists>"
      ]
     },
     "execution_count": 83,
     "metadata": {},
     "output_type": "execute_result"
    },
    {
     "data": {
      "image/png": "[encoded data removed]",
      "text/plain": [
       "<Figure size 432x288 with 1 Axes>"
      ]
     },
     "metadata": {
      "needs_background": "light"
     },
     "output_type": "display_data"
    }
   ],
   "source": [
    "months = [\"Jan\", \"Feb\", \"March\", \"April\", \"May\", \"June\", \"July\", \"August\", \"Sep\", \"Oct\", \"Nov\", \"Dec\"]\n",
    "plt.bar(months, pvmodel.Outputs.monthly_energy)"
   ]
  },
  {
   "cell_type": "code",
   "execution_count": 84,
   "metadata": {},
   "outputs": [
    {
     "data": {
      "image/png": "[encoded data removed]",
      "text/plain": [
       "<Figure size 432x288 with 1 Axes>"
      ]
     },
     "metadata": {
      "needs_background": "light"
     },
     "output_type": "display_data"
    }
   ],
   "source": [
    "dates = pd.date_range(start=\"1/1/2006\", end=\"1/1/2007\", freq=\"H\").delete(-1)\n",
    "\n",
    "hourly_load_w_dates = pd.DataFrame({\"Load\" : pvmodel.Load.load, \"Dates\" : dates})\n",
    "monthly_load = hourly_load_w_dates.groupby(hourly_load_w_dates[\"Dates\"].dt.month)[\"Load\"].sum()\n",
    "\n",
    "months = [\"Jan\", \"Feb\", \"March\", \"April\", \"May\", \"June\", \"July\", \"August\", \"Sep\", \"Oct\", \"Nov\", \"Dec\"]\n",
    "\n",
    "x = np.arange(len(months))  # the label locations\n",
    "width = 0.35  # the width of the bars\n",
    "\n",
    "f, ax = plt.subplots()\n",
    "ax.bar(x - width/2, pvmodel.Outputs.monthly_energy, width, label=\"System AC Energy\")\n",
    "ax.bar(x + width/2, monthly_load.values, width, label=\"Electricity Load\")\n",
    "ax.set_xlabel(months)\n",
    "plt.legend();"
   ]
  },
  {
   "cell_type": "code",
   "execution_count": 80,
   "metadata": {},
   "outputs": [
    {
     "data": {
      "text/plain": [
       "array([   28.3161802 ,   -62.97232439,  -183.51875902,  -459.90770752,\n",
       "        -710.99404511, -1171.36193788,  -560.86125858,  -727.69156526,\n",
       "        -386.26669839,   115.46397126,   178.95305009,   159.32760949])"
      ]
     },
     "execution_count": 80,
     "metadata": {},
     "output_type": "execute_result"
    }
   ],
   "source": [
    "diff_of_energy_load = pvmodel.Outputs.monthly_energy - monthly_load.values\n",
    "\n",
    "diff_of_energy_load"
   ]
  },
  {
   "cell_type": "code",
   "execution_count": null,
   "metadata": {},
   "outputs": [],
   "source": []
  }
 ],
 "metadata": {
  "kernelspec": {
   "display_name": "Python [conda env:pysam]",
   "language": "python",
   "name": "conda-env-pysam-py"
  },
  "language_info": {
   "codemirror_mode": {
    "name": "ipython",
    "version": 3
   },
   "file_extension": ".py",
   "mimetype": "text/x-python",
   "name": "python",
   "nbconvert_exporter": "python",
   "pygments_lexer": "ipython3",
   "version": "3.7.9"
  }
 },
 "nbformat": 4,
 "nbformat_minor": 4
}
