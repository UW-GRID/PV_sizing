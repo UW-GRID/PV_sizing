{
 "cells": [
  {
   "cell_type": "code",
   "execution_count": 1,
   "metadata": {},
   "outputs": [],
   "source": [
    "import numpy as np\n",
    "import pandas as pd\n",
    "import PySAM.Pvsamv1 as pv\n",
    "\n",
    "import matplotlib.pyplot as plt"
   ]
  },
  {
   "cell_type": "code",
   "execution_count": 2,
   "metadata": {},
   "outputs": [],
   "source": [
    "pvmodel = pv.default('PVBatteryResidential')"
   ]
  },
  {
   "cell_type": "code",
   "execution_count": 3,
   "metadata": {},
   "outputs": [],
   "source": [
    "# there are formatting differences between the weather file that we download from\n",
    "# pvwatts and what SAM wants --- SAM wants the file from the NSRDB \n",
    "pvmodel.SolarResource.solar_resource_file = \"../data/tmy_5.579_-0.233_2005_2014.epw\""
   ]
  },
  {
   "cell_type": "code",
   "execution_count": 4,
   "metadata": {},
   "outputs": [
    {
     "data": {
      "text/plain": [
       "{'inv_cec_cg_eff_cec': 96.6364,\n",
       " 'inv_cec_cg_paco': 3800.0,\n",
       " 'inv_ds_eff': 96.0,\n",
       " 'inv_ds_paco': 4000.0,\n",
       " 'inv_num_mppt': 1.0,\n",
       " 'inv_pd_eff': 95.0,\n",
       " 'inv_pd_paco': 4000.0,\n",
       " 'inv_snl_eff_cec': 97.0531,\n",
       " 'inv_snl_paco': 3850.0,\n",
       " 'inverter_count': 1.0,\n",
       " 'inverter_model': 0.0,\n",
       " 'mppt_hi_inverter': 480.0,\n",
       " 'mppt_low_inverter': 100.0}"
      ]
     },
     "execution_count": 4,
     "metadata": {},
     "output_type": "execute_result"
    }
   ],
   "source": [
    "pvmodel.Inverter.export()"
   ]
  },
  {
   "cell_type": "code",
   "execution_count": 5,
   "metadata": {},
   "outputs": [],
   "source": [
    "our_load_profile = np.loadtxt(\"../data/Max_load_profile_for_year.txt\", skiprows=1)"
   ]
  },
  {
   "cell_type": "code",
   "execution_count": 6,
   "metadata": {},
   "outputs": [],
   "source": [
    "pvmodel.Load.load = tuple(our_load_profile)"
   ]
  },
  {
   "cell_type": "code",
   "execution_count": 7,
   "metadata": {},
   "outputs": [],
   "source": [
    "pvmodel.execute()"
   ]
  },
  {
   "cell_type": "code",
   "execution_count": 8,
   "metadata": {},
   "outputs": [
    {
     "data": {
      "text/plain": [
       "<BarContainer object of 12 artists>"
      ]
     },
     "execution_count": 8,
     "metadata": {},
     "output_type": "execute_result"
    },
    {
     "data": {
      "image/png": "[encoded data removed]",
      "text/plain": [
       "<Figure size 432x288 with 1 Axes>"
      ]
     },
     "metadata": {
      "needs_background": "light"
     },
     "output_type": "display_data"
    }
   ],
   "source": [
    "months = [\"Jan\", \"Feb\", \"March\", \"April\", \"May\", \"June\", \"July\", \"August\", \"Sep\", \"Oct\", \"Nov\", \"Dec\"]\n",
    "plt.bar(months, pvmodel.Outputs.monthly_energy)"
   ]
  },
  {
   "cell_type": "code",
   "execution_count": 26,
   "metadata": {},
   "outputs": [
    {
     "data": {
      "text/plain": [
       "7727.689373191183"
      ]
     },
     "execution_count": 26,
     "metadata": {},
     "output_type": "execute_result"
    }
   ],
   "source": [
    "pvmodel.Outputs.annual_energy"
   ]
  },
  {
   "cell_type": "code",
   "execution_count": null,
   "metadata": {},
   "outputs": [],
   "source": [
    "pvmodel.Outputs.monthly_energy # System AC energy\n",
    "pvmodel.Load.load  # electricity load"
   ]
  },
  {
   "cell_type": "code",
   "execution_count": 29,
   "metadata": {},
   "outputs": [
    {
     "data": {
      "text/plain": [
       "(750.711656171897,\n",
       " 662.9025297515311,\n",
       " 689.0340199777896,\n",
       " 594.0414600117102,\n",
       " 534.4611413648552,\n",
       " 415.3544522925302,\n",
       " 554.3418794810761,\n",
       " 537.2526129661588,\n",
       " 594.1591143248256,\n",
       " 760.971941522531,\n",
       " 777.7707962925422,\n",
       " 789.9051667848086)"
      ]
     },
     "execution_count": 29,
     "metadata": {},
     "output_type": "execute_result"
    }
   ],
   "source": [
    "pvmodel.Outputs.monthly_pv_to_batt\n",
    "pvmodel.Outputs.monthly_pv_to_load\n",
    "pvmodel.Outputs.monthly_pv_to_grid"
   ]
  },
  {
   "cell_type": "code",
   "execution_count": 24,
   "metadata": {},
   "outputs": [],
   "source": [
    "dates = pd.date_range(start=\"1/1/2006\", end=\"1/1/2007\", freq=\"H\").delete(-1)"
   ]
  },
  {
   "cell_type": "code",
   "execution_count": 26,
   "metadata": {},
   "outputs": [],
   "source": [
    "hourly_load_w_dates = pd.DataFrame({\"Load\" : pvmodel.Load.load, \"Dates\" : dates})"
   ]
  },
  {
   "cell_type": "code",
   "execution_count": 40,
   "metadata": {},
   "outputs": [
    {
     "data": {
      "text/plain": [
       "Dates\n",
       "1     3867.684\n",
       "2     3493.392\n",
       "3     3867.684\n",
       "4     3742.920\n",
       "5     3867.684\n",
       "6     3742.920\n",
       "7     3867.684\n",
       "8     3867.684\n",
       "9     3742.920\n",
       "10    3867.684\n",
       "11    3742.920\n",
       "12    3867.684\n",
       "Name: Load, dtype: float64"
      ]
     },
     "execution_count": 40,
     "metadata": {},
     "output_type": "execute_result"
    }
   ],
   "source": [
    "hourly_load_w_dates.groupby(hourly_load_w_dates[\"Dates\"].dt.month)[\"Load\"].sum()"
   ]
  },
  {
   "cell_type": "code",
   "execution_count": 52,
   "metadata": {},
   "outputs": [
    {
     "data": {
      "text/plain": [
       "Dates\n",
       "April        120.739355\n",
       "August       124.764000\n",
       "December     124.764000\n",
       "February     112.690065\n",
       "January      124.764000\n",
       "July         124.764000\n",
       "June         120.739355\n",
       "March        124.764000\n",
       "May          124.764000\n",
       "November     120.739355\n",
       "October      124.764000\n",
       "September    120.739355\n",
       "Name: Load, dtype: float64"
      ]
     },
     "execution_count": 52,
     "metadata": {},
     "output_type": "execute_result"
    }
   ],
   "source": [
    "hourly_load_w_dates.groupby(hourly_load_w_dates[\"Dates\"].dt.strftime('%B'))[\"Load\"].sum()"
   ]
  },
  {
   "cell_type": "code",
   "execution_count": null,
   "metadata": {},
   "outputs": [],
   "source": []
  }
 ],
 "metadata": {
  "kernelspec": {
   "display_name": "Python [conda env:pysam]",
   "language": "python",
   "name": "conda-env-pysam-py"
  },
  "language_info": {
   "codemirror_mode": {
    "name": "ipython",
    "version": 3
   },
   "file_extension": ".py",
   "mimetype": "text/x-python",
   "name": "python",
   "nbconvert_exporter": "python",
   "pygments_lexer": "ipython3",
   "version": "3.7.9"
  }
 },
 "nbformat": 4,
 "nbformat_minor": 4
}
