{
 "cells": [
  {
   "cell_type": "code",
   "execution_count": 1,
   "metadata": {},
   "outputs": [
    {
     "name": "stderr",
     "output_type": "stream",
     "text": [
      "\n",
      "Bad key \"text.kerning_factor\" on line 4 in\n",
      "C:\\Users\\sarth\\Anaconda3\\lib\\site-packages\\matplotlib\\mpl-data\\stylelib\\_classic_test_patch.mplstyle.\n",
      "You probably need to get an updated matplotlibrc file from\n",
      "http://github.com/matplotlib/matplotlib/blob/master/matplotlibrc.template\n",
      "or from the matplotlib source distribution\n"
     ]
    }
   ],
   "source": [
    "import numpy as np\n",
    "import pandas as pd\n",
    "import matplotlib.pyplot as plt\n",
    "%matplotlib inline\n",
    "from scipy.interpolate import interp1d"
   ]
  },
  {
   "cell_type": "code",
   "execution_count": 2,
   "metadata": {},
   "outputs": [],
   "source": [
    "hr = 24 #hours?\n",
    "days = 365\n",
    "\n",
    "PVsize = 1700 #Watts\n",
    "pvData = pd.read_csv('pvwatts_hourly.csv', skiprows = 17) #From PVwatts Calculator\n",
    "DC_output = pvData['DC Array Output (W)'] #DC Array Output (W)\n",
    "daily_output = DC_output.iloc[:-1].values #drop final totals row\n",
    "daily_output = daily_output.reshape((24, 365))\n",
    "\n",
    "pvDaysFinal = interp1d((np.linspace(1, 24, 24)), daily_output, axis=0)\n",
    "pvo = pvDaysFinal(np.linspace(1, 24, 24))\n",
    "\n",
    "# Need to delete the \"totals\" from csv before loading; \n",
    "# convert the row in excel such that it avoids \",\" representation of numbers\n",
    "raw_input = pd.read_csv('../data/Load Profile - Max Load.csv', header=None, skiprows = 11, nrows=1)\n",
    "raw_input = raw_input.dropna(axis='columns')\n",
    "raw_input = raw_input.drop([7, 57], axis='columns')\n",
    "demand = raw_input.values.T"
   ]
  },
  {
   "cell_type": "code",
   "execution_count": 3,
   "metadata": {},
   "outputs": [],
   "source": [
    "# Battery maximum state of charge\n",
    "soc_max = 77000\n",
    "\n",
    "# Battey minimum state of charge (50% max capacity)\n",
    "soc_min = soc_max * 0.5\n",
    "\n",
    "# Inverter efficiency\n",
    "inv_eff = 0.9\n",
    "\n",
    "# Battery efficiency\n",
    "bat_eff = 0.9\n",
    "\n",
    "# Empty array of days vs hours for Photo Voltaic Energy generation\n",
    "pve = np.zeros((days, hr))\n",
    "\n",
    "#Empty array of days vs hours for battery State Of Charge\n",
    "soc = np.zeros((days, hr))\n",
    "\n",
    "#Initial state of charge is the capacity minimum\n",
    "soc[0, 0] = ((soc_max - soc_min)/(2 + soc_min))\n",
    "\n",
    "#Empty array of zeroes for excess energy generation\n",
    "pve_exs = np.zeros((days, hr))\n",
    "\n",
    "#Empty array of zeroes for energy deficit\n",
    "pve_def = np.zeros((days, hr))\n",
    "\n",
    "#\n",
    "for x in range(0, days, 1):\n",
    "    for y in range(0, hr, 1):\n",
    "        if (pvo[y, x]-((1/inv_eff)*demand[y, 0])) > 0:\n",
    "            pve[x, y] = pvo[y, x] - ((1/inv_eff)*demand[y, 0])\n",
    "        elif (pvo[y, x]-((1/inv_eff)*demand[y, 0])) < 0:\n",
    "            pve[x, y] = (pvo[y, x] - ((1/inv_eff)*demand[y, 0]))*(1/bat_eff)\n",
    "        else:\n",
    "            pve[x, y] = 0\n",
    "        \n",
    "        soc[x, y] = soc[x, y] + pve[x, y]\n",
    "        if soc[x, y] >= soc_max:\n",
    "            pve_exs[x, y] = soc[x, y] - soc_max\n",
    "            soc[x, y] = soc_max\n",
    "        elif soc[x, y] <= soc_min:\n",
    "            pve_def[x, y] = soc_min - soc[x, y]\n",
    "            soc[x, y] = soc_min\n",
    "        else:\n",
    "            pass\n",
    "        \n",
    "    if x != days:\n",
    "        soc[x, 0] = soc[x, hr-1]\n"
   ]
  },
  {
   "cell_type": "code",
   "execution_count": 4,
   "metadata": {},
   "outputs": [
    {
     "data": {
      "text/plain": [
       "array([[38500., 38500., 38500., ..., 38500., 38500., 38500.],\n",
       "       [38500., 38500., 38500., ..., 38500., 38500., 38500.],\n",
       "       [38500., 38500., 38500., ..., 38500., 38500., 38500.],\n",
       "       ...,\n",
       "       [38500., 38500., 38500., ..., 38500., 38500., 38500.],\n",
       "       [38500., 38500., 38500., ..., 38500., 38500., 38500.],\n",
       "       [38500., 38500., 38500., ..., 38500., 38500., 38500.]])"
      ]
     },
     "execution_count": 4,
     "metadata": {},
     "output_type": "execute_result"
    }
   ],
   "source": [
    "soc"
   ]
  },
  {
   "cell_type": "code",
   "execution_count": 5,
   "metadata": {},
   "outputs": [
    {
     "data": {
      "text/plain": [
       "array([[-896.2962963 , -896.2962963 , 1345.87733333, ..., 1369.60833333,\n",
       "        1096.71833333, -896.2962963 ],\n",
       "       [-896.2962963 , -804.24074074, 1460.30733333, ..., 1748.29233333,\n",
       "         544.96133333, -896.2962963 ],\n",
       "       [-896.2962963 , -402.98074074, 1655.90033333, ..., 1958.12433333,\n",
       "        -249.38296296, -896.2962963 ],\n",
       "       ...,\n",
       "       [-896.2962963 , -387.18740741,  973.44333333, ..., 1734.53333333,\n",
       "        -276.22074074, -896.2962963 ],\n",
       "       [-896.2962963 ,  214.22933333, 1532.68533333, ..., 2050.76233333,\n",
       "        -785.26185185, -896.2962963 ],\n",
       "       [-896.2962963 ,  744.56333333, 1368.74133333, ..., 1457.82733333,\n",
       "        -896.2962963 , -896.2962963 ]])"
      ]
     },
     "execution_count": 5,
     "metadata": {},
     "output_type": "execute_result"
    }
   ],
   "source": [
    "pve"
   ]
  },
  {
   "cell_type": "code",
   "execution_count": 6,
   "metadata": {},
   "outputs": [
    {
     "data": {
      "text/plain": [
       "array([[0., 0., 0., ..., 0., 0., 0.],\n",
       "       [0., 0., 0., ..., 0., 0., 0.],\n",
       "       [0., 0., 0., ..., 0., 0., 0.],\n",
       "       ...,\n",
       "       [0., 0., 0., ..., 0., 0., 0.],\n",
       "       [0., 0., 0., ..., 0., 0., 0.],\n",
       "       [0., 0., 0., ..., 0., 0., 0.]])"
      ]
     },
     "execution_count": 6,
     "metadata": {},
     "output_type": "execute_result"
    }
   ],
   "source": [
    "pve_exs"
   ]
  },
  {
   "cell_type": "code",
   "execution_count": 7,
   "metadata": {},
   "outputs": [
    {
     "data": {
      "text/plain": [
       "array([[39395.29634824, 39396.2962963 , 37154.12266667, ...,\n",
       "        37130.39166667, 37403.28166667, 39396.2962963 ],\n",
       "       [39396.2962963 , 39304.24074074, 37039.69266667, ...,\n",
       "        36751.70766667, 37955.03866667, 39396.2962963 ],\n",
       "       [39396.2962963 , 38902.98074074, 36844.09966667, ...,\n",
       "        36541.87566667, 38749.38296296, 39396.2962963 ],\n",
       "       ...,\n",
       "       [39396.2962963 , 38887.18740741, 37526.55666667, ...,\n",
       "        36765.46666667, 38776.22074074, 39396.2962963 ],\n",
       "       [39396.2962963 , 38285.77066667, 36967.31466667, ...,\n",
       "        36449.23766667, 39285.26185185, 39396.2962963 ],\n",
       "       [39396.2962963 , 37755.43666667, 37131.25866667, ...,\n",
       "        37042.17266667, 39396.2962963 , 39396.2962963 ]])"
      ]
     },
     "execution_count": 7,
     "metadata": {},
     "output_type": "execute_result"
    }
   ],
   "source": [
    "pve_def"
   ]
  },
  {
   "cell_type": "code",
   "execution_count": null,
   "metadata": {},
   "outputs": [],
   "source": []
  }
 ],
 "metadata": {
  "kernelspec": {
   "display_name": "Python 3",
   "language": "python",
   "name": "python3"
  },
  "language_info": {
   "codemirror_mode": {
    "name": "ipython",
    "version": 3
   },
   "file_extension": ".py",
   "mimetype": "text/x-python",
   "name": "python",
   "nbconvert_exporter": "python",
   "pygments_lexer": "ipython3",
   "version": "3.7.7"
  }
 },
 "nbformat": 4,
 "nbformat_minor": 4
}
